{
 "cells": [
  {
   "cell_type": "code",
   "execution_count": 2,
   "metadata": {
    "_kg_hide-input": true,
    "_uuid": "bbcbb713210c674a54142d4ade11072985c94754"
   },
   "outputs": [],
   "source": [
    "import numpy as np\n",
    "import pandas as pd\n",
    "import matplotlib.pyplot as plt\n",
    "import seaborn as sns"
   ]
  },
  {
   "cell_type": "code",
   "execution_count": 6,
   "metadata": {
    "_kg_hide-input": true,
    "_uuid": "39cff8696636f21dd5b26854b6d608a73a635345"
   },
   "outputs": [],
   "source": [
    "train = pd.read_csv('/Users/alphapro/Desktop/Kodlar, Programlar/ML/SignLang_ML/sign-language-mnist/sign_mnist_train.csv')\n",
    "test = pd.read_csv('/Users/alphapro/Desktop/Kodlar, Programlar/ML/SignLang_ML/sign-language-mnist/sign_mnist_test.csv')"
   ]
  },
  {
   "cell_type": "code",
   "execution_count": 7,
   "metadata": {
    "_kg_hide-input": true,
    "_uuid": "1704cf375513a33e8c0d963feebca7b783b5a0b5"
   },
   "outputs": [
    {
     "data": {
      "text/html": [
       "<div>\n",
       "<style scoped>\n",
       "    .dataframe tbody tr th:only-of-type {\n",
       "        vertical-align: middle;\n",
       "    }\n",
       "\n",
       "    .dataframe tbody tr th {\n",
       "        vertical-align: top;\n",
       "    }\n",
       "\n",
       "    .dataframe thead th {\n",
       "        text-align: right;\n",
       "    }\n",
       "</style>\n",
       "<table border=\"1\" class=\"dataframe\">\n",
       "  <thead>\n",
       "    <tr style=\"text-align: right;\">\n",
       "      <th></th>\n",
       "      <th>label</th>\n",
       "      <th>pixel1</th>\n",
       "      <th>pixel2</th>\n",
       "      <th>pixel3</th>\n",
       "      <th>pixel4</th>\n",
       "      <th>pixel5</th>\n",
       "      <th>pixel6</th>\n",
       "      <th>pixel7</th>\n",
       "      <th>pixel8</th>\n",
       "      <th>pixel9</th>\n",
       "      <th>...</th>\n",
       "      <th>pixel775</th>\n",
       "      <th>pixel776</th>\n",
       "      <th>pixel777</th>\n",
       "      <th>pixel778</th>\n",
       "      <th>pixel779</th>\n",
       "      <th>pixel780</th>\n",
       "      <th>pixel781</th>\n",
       "      <th>pixel782</th>\n",
       "      <th>pixel783</th>\n",
       "      <th>pixel784</th>\n",
       "    </tr>\n",
       "  </thead>\n",
       "  <tbody>\n",
       "    <tr>\n",
       "      <th>0</th>\n",
       "      <td>3</td>\n",
       "      <td>107</td>\n",
       "      <td>118</td>\n",
       "      <td>127</td>\n",
       "      <td>134</td>\n",
       "      <td>139</td>\n",
       "      <td>143</td>\n",
       "      <td>146</td>\n",
       "      <td>150</td>\n",
       "      <td>153</td>\n",
       "      <td>...</td>\n",
       "      <td>207</td>\n",
       "      <td>207</td>\n",
       "      <td>207</td>\n",
       "      <td>207</td>\n",
       "      <td>206</td>\n",
       "      <td>206</td>\n",
       "      <td>206</td>\n",
       "      <td>204</td>\n",
       "      <td>203</td>\n",
       "      <td>202</td>\n",
       "    </tr>\n",
       "    <tr>\n",
       "      <th>1</th>\n",
       "      <td>6</td>\n",
       "      <td>155</td>\n",
       "      <td>157</td>\n",
       "      <td>156</td>\n",
       "      <td>156</td>\n",
       "      <td>156</td>\n",
       "      <td>157</td>\n",
       "      <td>156</td>\n",
       "      <td>158</td>\n",
       "      <td>158</td>\n",
       "      <td>...</td>\n",
       "      <td>69</td>\n",
       "      <td>149</td>\n",
       "      <td>128</td>\n",
       "      <td>87</td>\n",
       "      <td>94</td>\n",
       "      <td>163</td>\n",
       "      <td>175</td>\n",
       "      <td>103</td>\n",
       "      <td>135</td>\n",
       "      <td>149</td>\n",
       "    </tr>\n",
       "    <tr>\n",
       "      <th>2</th>\n",
       "      <td>2</td>\n",
       "      <td>187</td>\n",
       "      <td>188</td>\n",
       "      <td>188</td>\n",
       "      <td>187</td>\n",
       "      <td>187</td>\n",
       "      <td>186</td>\n",
       "      <td>187</td>\n",
       "      <td>188</td>\n",
       "      <td>187</td>\n",
       "      <td>...</td>\n",
       "      <td>202</td>\n",
       "      <td>201</td>\n",
       "      <td>200</td>\n",
       "      <td>199</td>\n",
       "      <td>198</td>\n",
       "      <td>199</td>\n",
       "      <td>198</td>\n",
       "      <td>195</td>\n",
       "      <td>194</td>\n",
       "      <td>195</td>\n",
       "    </tr>\n",
       "    <tr>\n",
       "      <th>3</th>\n",
       "      <td>2</td>\n",
       "      <td>211</td>\n",
       "      <td>211</td>\n",
       "      <td>212</td>\n",
       "      <td>212</td>\n",
       "      <td>211</td>\n",
       "      <td>210</td>\n",
       "      <td>211</td>\n",
       "      <td>210</td>\n",
       "      <td>210</td>\n",
       "      <td>...</td>\n",
       "      <td>235</td>\n",
       "      <td>234</td>\n",
       "      <td>233</td>\n",
       "      <td>231</td>\n",
       "      <td>230</td>\n",
       "      <td>226</td>\n",
       "      <td>225</td>\n",
       "      <td>222</td>\n",
       "      <td>229</td>\n",
       "      <td>163</td>\n",
       "    </tr>\n",
       "    <tr>\n",
       "      <th>4</th>\n",
       "      <td>13</td>\n",
       "      <td>164</td>\n",
       "      <td>167</td>\n",
       "      <td>170</td>\n",
       "      <td>172</td>\n",
       "      <td>176</td>\n",
       "      <td>179</td>\n",
       "      <td>180</td>\n",
       "      <td>184</td>\n",
       "      <td>185</td>\n",
       "      <td>...</td>\n",
       "      <td>92</td>\n",
       "      <td>105</td>\n",
       "      <td>105</td>\n",
       "      <td>108</td>\n",
       "      <td>133</td>\n",
       "      <td>163</td>\n",
       "      <td>157</td>\n",
       "      <td>163</td>\n",
       "      <td>164</td>\n",
       "      <td>179</td>\n",
       "    </tr>\n",
       "  </tbody>\n",
       "</table>\n",
       "<p>5 rows × 785 columns</p>\n",
       "</div>"
      ],
      "text/plain": [
       "   label  pixel1  pixel2  pixel3  pixel4  pixel5  pixel6  pixel7  pixel8  \\\n",
       "0      3     107     118     127     134     139     143     146     150   \n",
       "1      6     155     157     156     156     156     157     156     158   \n",
       "2      2     187     188     188     187     187     186     187     188   \n",
       "3      2     211     211     212     212     211     210     211     210   \n",
       "4     13     164     167     170     172     176     179     180     184   \n",
       "\n",
       "   pixel9  ...  pixel775  pixel776  pixel777  pixel778  pixel779  pixel780  \\\n",
       "0     153  ...       207       207       207       207       206       206   \n",
       "1     158  ...        69       149       128        87        94       163   \n",
       "2     187  ...       202       201       200       199       198       199   \n",
       "3     210  ...       235       234       233       231       230       226   \n",
       "4     185  ...        92       105       105       108       133       163   \n",
       "\n",
       "   pixel781  pixel782  pixel783  pixel784  \n",
       "0       206       204       203       202  \n",
       "1       175       103       135       149  \n",
       "2       198       195       194       195  \n",
       "3       225       222       229       163  \n",
       "4       157       163       164       179  \n",
       "\n",
       "[5 rows x 785 columns]"
      ]
     },
     "execution_count": 7,
     "metadata": {},
     "output_type": "execute_result"
    }
   ],
   "source": [
    "train.head()"
   ]
  },
  {
   "cell_type": "code",
   "execution_count": 8,
   "metadata": {
    "_uuid": "8c2df551d7a771cb4fdc25b574a48a1652f251f0"
   },
   "outputs": [
    {
     "data": {
      "text/plain": [
       "(27455, 785)"
      ]
     },
     "execution_count": 8,
     "metadata": {},
     "output_type": "execute_result"
    }
   ],
   "source": [
    "train.shape"
   ]
  },
  {
   "cell_type": "code",
   "execution_count": 10,
   "metadata": {
    "_uuid": "c08c24f5b0f18610feb7fbf0d7772792f78dac8d"
   },
   "outputs": [],
   "source": [
    "labels = train['label'].values"
   ]
  },
  {
   "cell_type": "code",
   "execution_count": 11,
   "metadata": {
    "_uuid": "5b97bf1309270da6695095e295886882e8c3c8af"
   },
   "outputs": [
    {
     "data": {
      "text/plain": [
       "array([ 0,  1,  2,  3,  4,  5,  6,  7,  8, 10, 11, 12, 13, 14, 15, 16, 17,\n",
       "       18, 19, 20, 21, 22, 23, 24])"
      ]
     },
     "execution_count": 11,
     "metadata": {},
     "output_type": "execute_result"
    }
   ],
   "source": [
    "unique_val = np.array(labels)\n",
    "np.unique(unique_val)"
   ]
  },
  {
   "cell_type": "markdown",
   "metadata": {
    "_uuid": "46e4bfa083095d0ee14048250875952381d7060b"
   },
   "source": [
    "# Data exploration"
   ]
  },
  {
   "cell_type": "code",
   "execution_count": 12,
   "metadata": {
    "_kg_hide-input": true,
    "_uuid": "7f35db6e0ad4d62e93e82d932dea132ccd17d361"
   },
   "outputs": [
    {
     "data": {
      "text/plain": [
       "<matplotlib.axes._subplots.AxesSubplot at 0x7faca8649610>"
      ]
     },
     "execution_count": 12,
     "metadata": {},
     "output_type": "execute_result"
    },
    {
     "data": {
      "image/png": "[encoded data removed]",
      "text/plain": [
       "<Figure size 1296x576 with 1 Axes>"
      ]
     },
     "metadata": {
      "needs_background": "light"
     },
     "output_type": "display_data"
    }
   ],
   "source": [
    "plt.figure(figsize = (18,8))\n",
    "sns.countplot(x =labels)"
   ]
  },
  {
   "cell_type": "code",
   "execution_count": 13,
   "metadata": {
    "_uuid": "cf73d03f610be9f134a3ee5e35301b1da4626d02"
   },
   "outputs": [],
   "source": [
    "train.drop('label', axis = 1, inplace = True)"
   ]
  },
  {
   "cell_type": "code",
   "execution_count": 14,
   "metadata": {
    "_uuid": "b25a4af6ed60a970d5f530f4c94aca2e0c2554de"
   },
   "outputs": [],
   "source": [
    "images = train.values\n",
    "images = np.array([np.reshape(i, (28, 28)) for i in images])\n",
    "images = np.array([i.flatten() for i in images])"
   ]
  },
  {
   "cell_type": "code",
   "execution_count": 15,
   "metadata": {
    "_uuid": "796cf96b649f38bdece4403bf719e5788857f296"
   },
   "outputs": [],
   "source": [
    "from sklearn.preprocessing import LabelBinarizer\n",
    "label_binrizer = LabelBinarizer()\n",
    "labels = label_binrizer.fit_transform(labels)"
   ]
  },
  {
   "cell_type": "code",
   "execution_count": 16,
   "metadata": {
    "_uuid": "0e6e3147f9d104a39ca91b75e5e78d44b07b9b35"
   },
   "outputs": [
    {
     "data": {
      "text/plain": [
       "array([[0, 0, 0, ..., 0, 0, 0],\n",
       "       [0, 0, 0, ..., 0, 0, 0],\n",
       "       [0, 0, 1, ..., 0, 0, 0],\n",
       "       ...,\n",
       "       [0, 0, 0, ..., 0, 0, 0],\n",
       "       [0, 0, 0, ..., 0, 0, 0],\n",
       "       [0, 0, 0, ..., 0, 1, 0]])"
      ]
     },
     "execution_count": 16,
     "metadata": {},
     "output_type": "execute_result"
    }
   ],
   "source": [
    "labels"
   ]
  },
  {
   "cell_type": "code",
   "execution_count": 17,
   "metadata": {
    "_kg_hide-input": true,
    "_uuid": "3381e5155295c437768c05889ac3fe5b449a1c7d",
    "scrolled": true
   },
   "outputs": [
    {
     "data": {
      "text/plain": [
       "<matplotlib.image.AxesImage at 0x7fac9880ecd0>"
      ]
     },
     "execution_count": 17,
     "metadata": {},
     "output_type": "execute_result"
    },
    {
     "data": {
      "image/png": "[encoded data removed]",
      "text/plain": [
       "<Figure size 432x288 with 1 Axes>"
      ]
     },
     "metadata": {
      "needs_background": "light"
     },
     "output_type": "display_data"
    }
   ],
   "source": [
    "plt.imshow(images[0].reshape(28,28))"
   ]
  },
  {
   "cell_type": "markdown",
   "metadata": {
    "_uuid": "ba7bfbf01786a077db6287f795469308e2e37044"
   },
   "source": [
    "Spliting the dataset into train(70%) and test(30%)"
   ]
  },
  {
   "cell_type": "code",
   "execution_count": 18,
   "metadata": {
    "_uuid": "a2998dd21e53a4f15514277995491eafc5f6b235"
   },
   "outputs": [],
   "source": [
    "from sklearn.model_selection import train_test_split"
   ]
  },
  {
   "cell_type": "code",
   "execution_count": 19,
   "metadata": {
    "_uuid": "8195b569b6b66f7f03d510b26eb8941a6eff8f96"
   },
   "outputs": [],
   "source": [
    "x_train, x_test, y_train, y_test = train_test_split(images, labels, test_size = 0.3, random_state = 101)"
   ]
  },
  {
   "cell_type": "markdown",
   "metadata": {
    "_uuid": "ca7ff22abf6130778af7ec7e8c1062365b1a5179",
    "collapsed": true
   },
   "source": [
    "For deep learning i am using keras library"
   ]
  },
  {
   "cell_type": "code",
   "execution_count": 20,
   "metadata": {
    "_uuid": "3ec82309ac0cd088766cfccd095401d706c09462"
   },
   "outputs": [
    {
     "name": "stderr",
     "output_type": "stream",
     "text": [
      "Using TensorFlow backend.\n"
     ]
    }
   ],
   "source": [
    "import keras\n",
    "from keras.models import Sequential\n",
    "from keras.layers import Dense, Conv2D, MaxPooling2D, Flatten, Dropout"
   ]
  },
  {
   "cell_type": "code",
   "execution_count": 29,
   "metadata": {
    "_uuid": "4321e7c0755b03a7ed072cab088d02b27f3f734f"
   },
   "outputs": [],
   "source": [
    "batch_size = 128\n",
    "num_classes = 24\n",
    "epochs = 30"
   ]
  },
  {
   "cell_type": "markdown",
   "metadata": {
    "_uuid": "642c57023e8cc89f7ec0d90c16ffa3c4c3db78f6"
   },
   "source": [
    "Normalizing the training and test data"
   ]
  },
  {
   "cell_type": "code",
   "execution_count": 22,
   "metadata": {
    "_uuid": "c844dbe8b17ca2926268369d41b2973ffe5e9070"
   },
   "outputs": [],
   "source": [
    "x_train = x_train / 255\n",
    "x_test = x_test / 255"
   ]
  },
  {
   "cell_type": "code",
   "execution_count": 23,
   "metadata": {
    "_uuid": "1cb372496acf0b6e5ffb4a951d4445929fed7706"
   },
   "outputs": [],
   "source": [
    "x_train = x_train.reshape(x_train.shape[0], 28, 28, 1)"
   ]
  },
  {
   "cell_type": "code",
   "execution_count": 24,
   "metadata": {
    "_uuid": "8c557ee15f0f647690965549ce66a64645a91829"
   },
   "outputs": [],
   "source": [
    "x_test = x_test.reshape(x_test.shape[0], 28, 28, 1)"
   ]
  },
  {
   "cell_type": "markdown",
   "metadata": {
    "_uuid": "09645baa07e52c8dc13b386764ed84b6f23a1078"
   },
   "source": [
    "Visualizing the image after normalizing"
   ]
  },
  {
   "cell_type": "code",
   "execution_count": 25,
   "metadata": {
    "_uuid": "9556ccbe5f61082d473f9fbafa1f741e8767a496"
   },
   "outputs": [
    {
     "data": {
      "text/plain": [
       "<matplotlib.image.AxesImage at 0x7fac99559a10>"
      ]
     },
     "execution_count": 25,
     "metadata": {},
     "output_type": "execute_result"
    },
    {
     "data": {
      "image/png": "[encoded data removed]",
      "text/plain": [
       "<Figure size 432x288 with 1 Axes>"
      ]
     },
     "metadata": {
      "needs_background": "light"
     },
     "output_type": "display_data"
    }
   ],
   "source": [
    "plt.imshow(x_train[0].reshape(28,28))"
   ]
  },
  {
   "cell_type": "markdown",
   "metadata": {
    "_uuid": "82f51a8ea917e21a1059c8e02c38c6a73ff7e994"
   },
   "source": [
    "# CNN Model"
   ]
  },
  {
   "cell_type": "code",
   "execution_count": 26,
   "metadata": {
    "_uuid": "31b10d7abd4b28e7de20a46bab97b87bdf797fdb"
   },
   "outputs": [],
   "source": [
    "model = Sequential()\n",
    "model.add(Conv2D(64, kernel_size=(3,3), activation = 'relu', input_shape=(28, 28 ,1) ))\n",
    "model.add(MaxPooling2D(pool_size = (2, 2)))\n",
    "\n",
    "model.add(Conv2D(64, kernel_size = (3, 3), activation = 'relu'))\n",
    "model.add(MaxPooling2D(pool_size = (2, 2)))\n",
    "\n",
    "model.add(Conv2D(64, kernel_size = (3, 3), activation = 'relu'))\n",
    "model.add(MaxPooling2D(pool_size = (2, 2)))\n",
    "\n",
    "model.add(Flatten())\n",
    "model.add(Dense(128, activation = 'relu'))\n",
    "model.add(Dropout(0.20))\n",
    "\n",
    "model.add(Dense(num_classes, activation = 'softmax'))"
   ]
  },
  {
   "cell_type": "code",
   "execution_count": 27,
   "metadata": {
    "_uuid": "b3f7e5cbaf7fd6a0b87cbaa2a91febc373fa41ae"
   },
   "outputs": [],
   "source": [
    "model.compile(loss = keras.losses.categorical_crossentropy, optimizer=keras.optimizers.Adam(),\n",
    "              metrics=['accuracy'])"
   ]
  },
  {
   "cell_type": "code",
   "execution_count": 30,
   "metadata": {
    "_uuid": "f8017080980e9d0e1a97782e518e502ba3e71b13",
    "scrolled": true
   },
   "outputs": [
    {
     "name": "stdout",
     "output_type": "stream",
     "text": [
      "Train on 19218 samples, validate on 8237 samples\n",
      "Epoch 1/30\n",
      "19218/19218 [==============================] - 7s 371us/step - loss: 0.0042 - accuracy: 0.9989 - val_loss: 0.0021 - val_accuracy: 0.9996\n",
      "Epoch 2/30\n",
      "19218/19218 [==============================] - 7s 369us/step - loss: 0.0149 - accuracy: 0.9953 - val_loss: 0.0023 - val_accuracy: 0.9995\n",
      "Epoch 3/30\n",
      "19218/19218 [==============================] - 7s 372us/step - loss: 0.0073 - accuracy: 0.9980 - val_loss: 0.0017 - val_accuracy: 0.9995\n",
      "Epoch 4/30\n",
      "19218/19218 [==============================] - 7s 375us/step - loss: 0.0052 - accuracy: 0.9982 - val_loss: 0.0010 - val_accuracy: 0.9998\n",
      "Epoch 5/30\n",
      "19218/19218 [==============================] - 7s 377us/step - loss: 0.0033 - accuracy: 0.9991 - val_loss: 0.0015 - val_accuracy: 0.9999\n",
      "Epoch 6/30\n",
      "19218/19218 [==============================] - 7s 379us/step - loss: 0.0064 - accuracy: 0.9982 - val_loss: 0.0031 - val_accuracy: 0.9992\n",
      "Epoch 7/30\n",
      "19218/19218 [==============================] - 7s 377us/step - loss: 0.0082 - accuracy: 0.9977 - val_loss: 0.0014 - val_accuracy: 0.9995\n",
      "Epoch 8/30\n",
      "19218/19218 [==============================] - 7s 379us/step - loss: 0.0045 - accuracy: 0.9989 - val_loss: 0.0013 - val_accuracy: 0.9999\n",
      "Epoch 9/30\n",
      "19218/19218 [==============================] - 7s 368us/step - loss: 0.0094 - accuracy: 0.9973 - val_loss: 0.0047 - val_accuracy: 0.9988\n",
      "Epoch 10/30\n",
      "19218/19218 [==============================] - 7s 366us/step - loss: 0.0065 - accuracy: 0.9982 - val_loss: 5.3421e-04 - val_accuracy: 1.0000\n",
      "Epoch 11/30\n",
      "19218/19218 [==============================] - 7s 367us/step - loss: 0.0030 - accuracy: 0.9993 - val_loss: 4.4419e-04 - val_accuracy: 1.0000\n",
      "Epoch 12/30\n",
      "19218/19218 [==============================] - 7s 370us/step - loss: 0.0042 - accuracy: 0.9989 - val_loss: 2.8556e-04 - val_accuracy: 1.0000\n",
      "Epoch 13/30\n",
      "19218/19218 [==============================] - 7s 374us/step - loss: 0.0088 - accuracy: 0.9976 - val_loss: 8.7629e-04 - val_accuracy: 0.9999\n",
      "Epoch 14/30\n",
      "19218/19218 [==============================] - 7s 368us/step - loss: 0.0111 - accuracy: 0.9965 - val_loss: 0.0012 - val_accuracy: 0.9998\n",
      "Epoch 15/30\n",
      "19218/19218 [==============================] - 7s 373us/step - loss: 0.0029 - accuracy: 0.9992 - val_loss: 0.0010 - val_accuracy: 0.9996\n",
      "Epoch 16/30\n",
      "19218/19218 [==============================] - 7s 373us/step - loss: 0.0047 - accuracy: 0.9985 - val_loss: 0.0013 - val_accuracy: 0.9996\n",
      "Epoch 17/30\n",
      "19218/19218 [==============================] - 7s 372us/step - loss: 0.0139 - accuracy: 0.9953 - val_loss: 0.0088 - val_accuracy: 0.9972\n",
      "Epoch 18/30\n",
      "19218/19218 [==============================] - 7s 383us/step - loss: 0.0058 - accuracy: 0.9981 - val_loss: 0.0022 - val_accuracy: 0.9990\n",
      "Epoch 19/30\n",
      "19218/19218 [==============================] - 7s 382us/step - loss: 0.0030 - accuracy: 0.9989 - val_loss: 3.3720e-04 - val_accuracy: 0.9999\n",
      "Epoch 20/30\n",
      "19218/19218 [==============================] - 7s 386us/step - loss: 0.0046 - accuracy: 0.9984 - val_loss: 4.6075e-04 - val_accuracy: 1.0000\n",
      "Epoch 21/30\n",
      "19218/19218 [==============================] - 7s 378us/step - loss: 0.0089 - accuracy: 0.9970 - val_loss: 8.3930e-04 - val_accuracy: 0.9998\n",
      "Epoch 22/30\n",
      "19218/19218 [==============================] - 7s 380us/step - loss: 0.0018 - accuracy: 0.9996 - val_loss: 6.5547e-04 - val_accuracy: 0.9998\n",
      "Epoch 23/30\n",
      "19218/19218 [==============================] - 7s 378us/step - loss: 0.0017 - accuracy: 0.9994 - val_loss: 6.0149e-04 - val_accuracy: 0.9999\n",
      "Epoch 24/30\n",
      "19218/19218 [==============================] - 7s 385us/step - loss: 0.0041 - accuracy: 0.9986 - val_loss: 0.0117 - val_accuracy: 0.9959\n",
      "Epoch 25/30\n",
      "19218/19218 [==============================] - 7s 372us/step - loss: 0.0061 - accuracy: 0.9980 - val_loss: 9.8189e-04 - val_accuracy: 0.9996\n",
      "Epoch 26/30\n",
      "19218/19218 [==============================] - 7s 370us/step - loss: 0.0098 - accuracy: 0.9967 - val_loss: 7.3034e-04 - val_accuracy: 0.9999\n",
      "Epoch 27/30\n",
      "19218/19218 [==============================] - 7s 367us/step - loss: 0.0017 - accuracy: 0.9996 - val_loss: 5.6883e-05 - val_accuracy: 1.0000\n",
      "Epoch 28/30\n",
      "19218/19218 [==============================] - 7s 377us/step - loss: 0.0016 - accuracy: 0.9997 - val_loss: 8.1016e-05 - val_accuracy: 1.0000\n",
      "Epoch 29/30\n",
      "19218/19218 [==============================] - 7s 380us/step - loss: 0.0048 - accuracy: 0.9985 - val_loss: 3.8501e-04 - val_accuracy: 1.0000\n",
      "Epoch 30/30\n",
      "19218/19218 [==============================] - 8s 394us/step - loss: 0.0042 - accuracy: 0.9989 - val_loss: 5.1681e-05 - val_accuracy: 1.0000\n"
     ]
    }
   ],
   "source": [
    "history = model.fit(x_train, y_train, validation_data = (x_test, y_test), epochs=epochs, batch_size=batch_size)"
   ]
  },
  {
   "cell_type": "code",
   "execution_count": 33,
   "metadata": {
    "_uuid": "fb2775e7f90958e544d84c476bcb52bd985e6395"
   },
   "outputs": [
    {
     "data": {
      "image/png": "[encoded data removed]",
      "text/plain": [
       "<Figure size 432x288 with 1 Axes>"
      ]
     },
     "metadata": {
      "needs_background": "light"
     },
     "output_type": "display_data"
    }
   ],
   "source": [
    "plt.plot(history.history['accuracy'])\n",
    "plt.plot(history.history['val_accuracy'])\n",
    "plt.title(\"Accuracy\")\n",
    "plt.xlabel('epoch')\n",
    "plt.ylabel('accuracy')\n",
    "plt.legend(['train','test'])\n",
    "\n",
    "plt.show()"
   ]
  },
  {
   "cell_type": "code",
   "execution_count": 43,
   "metadata": {},
   "outputs": [],
   "source": [
    "model2 = Sequential()\n",
    "model2.add(Conv2D(64, kernel_size=(3,3), activation = 'relu', input_shape=(28, 28 ,1) ))\n",
    "model2.add(MaxPooling2D(pool_size = (2, 2)))\n",
    "\n",
    "model2.add(Conv2D(64, kernel_size = (3, 3), activation = 'relu'))\n",
    "model2.add(MaxPooling2D(pool_size = (2, 2)))\n",
    "\n",
    "model2.add(Conv2D(64, kernel_size = (3, 3), activation = 'relu'))\n",
    "model2.add(MaxPooling2D(pool_size = (2, 2)))\n",
    "\n",
    "model2.add(Flatten())\n",
    "model2.add(Dense(128, activation = 'relu'))\n",
    "model2.add(Dropout(0.20))\n",
    "\n",
    "model2.add(Dense(24, activation = 'softmax'))"
   ]
  },
  {
   "cell_type": "code",
   "execution_count": 44,
   "metadata": {},
   "outputs": [
    {
     "name": "stdout",
     "output_type": "stream",
     "text": [
      "Model: \"sequential_2\"\n",
      "_________________________________________________________________\n",
      "Layer (type)                 Output Shape              Param #   \n",
      "=================================================================\n",
      "conv2d_4 (Conv2D)            (None, 26, 26, 64)        640       \n",
      "_________________________________________________________________\n",
      "max_pooling2d_4 (MaxPooling2 (None, 13, 13, 64)        0         \n",
      "_________________________________________________________________\n",
      "conv2d_5 (Conv2D)            (None, 11, 11, 64)        36928     \n",
      "_________________________________________________________________\n",
      "max_pooling2d_5 (MaxPooling2 (None, 5, 5, 64)          0         \n",
      "_________________________________________________________________\n",
      "conv2d_6 (Conv2D)            (None, 3, 3, 64)          36928     \n",
      "_________________________________________________________________\n",
      "max_pooling2d_6 (MaxPooling2 (None, 1, 1, 64)          0         \n",
      "_________________________________________________________________\n",
      "flatten_2 (Flatten)          (None, 64)                0         \n",
      "_________________________________________________________________\n",
      "dense_3 (Dense)              (None, 128)               8320      \n",
      "_________________________________________________________________\n",
      "dropout_2 (Dropout)          (None, 128)               0         \n",
      "_________________________________________________________________\n",
      "dense_4 (Dense)              (None, 24)                3096      \n",
      "=================================================================\n",
      "Total params: 85,912\n",
      "Trainable params: 85,912\n",
      "Non-trainable params: 0\n",
      "_________________________________________________________________\n"
     ]
    }
   ],
   "source": [
    "model2.compile(loss = \"categorical_crossentropy\", optimizer = \"adam\",\n",
    "              metrics=['accuracy'])\n",
    "model2.summary()"
   ]
  },
  {
   "cell_type": "code",
   "execution_count": 45,
   "metadata": {
    "scrolled": true
   },
   "outputs": [
    {
     "name": "stdout",
     "output_type": "stream",
     "text": [
      "Train on 19218 samples, validate on 8237 samples\n",
      "Epoch 1/30\n",
      "19218/19218 [==============================] - 8s 391us/step - loss: 2.5824 - accuracy: 0.2095 - val_loss: 1.5334 - val_accuracy: 0.5245\n",
      "Epoch 2/30\n",
      "19218/19218 [==============================] - 8s 397us/step - loss: 1.1962 - accuracy: 0.5965 - val_loss: 0.7348 - val_accuracy: 0.7664\n",
      "Epoch 3/30\n",
      "19218/19218 [==============================] - 7s 380us/step - loss: 0.7258 - accuracy: 0.7501 - val_loss: 0.4465 - val_accuracy: 0.8601\n",
      "Epoch 4/30\n",
      "19218/19218 [==============================] - 8s 392us/step - loss: 0.4749 - accuracy: 0.8399 - val_loss: 0.2913 - val_accuracy: 0.9173\n",
      "Epoch 5/30\n",
      "19218/19218 [==============================] - 8s 391us/step - loss: 0.3190 - accuracy: 0.8962 - val_loss: 0.2038 - val_accuracy: 0.9422\n",
      "Epoch 6/30\n",
      "19218/19218 [==============================] - 8s 391us/step - loss: 0.2154 - accuracy: 0.9312 - val_loss: 0.1109 - val_accuracy: 0.9727\n",
      "Epoch 7/30\n",
      "19218/19218 [==============================] - 7s 378us/step - loss: 0.1463 - accuracy: 0.9548 - val_loss: 0.0716 - val_accuracy: 0.9840\n",
      "Epoch 8/30\n",
      "19218/19218 [==============================] - 7s 381us/step - loss: 0.1042 - accuracy: 0.9699 - val_loss: 0.0569 - val_accuracy: 0.9883\n",
      "Epoch 9/30\n",
      "19218/19218 [==============================] - 7s 381us/step - loss: 0.0835 - accuracy: 0.9766 - val_loss: 0.0315 - val_accuracy: 0.9970\n",
      "Epoch 10/30\n",
      "19218/19218 [==============================] - 8s 391us/step - loss: 0.0554 - accuracy: 0.9856 - val_loss: 0.0168 - val_accuracy: 0.9993\n",
      "Epoch 11/30\n",
      "19218/19218 [==============================] - 8s 398us/step - loss: 0.0438 - accuracy: 0.9888 - val_loss: 0.0125 - val_accuracy: 0.9992\n",
      "Epoch 12/30\n",
      "19218/19218 [==============================] - 7s 388us/step - loss: 0.0354 - accuracy: 0.9914 - val_loss: 0.0205 - val_accuracy: 0.9966\n",
      "Epoch 13/30\n",
      "19218/19218 [==============================] - 7s 384us/step - loss: 0.0304 - accuracy: 0.9924 - val_loss: 0.0084 - val_accuracy: 0.9996\n",
      "Epoch 14/30\n",
      "19218/19218 [==============================] - 7s 381us/step - loss: 0.0208 - accuracy: 0.9954 - val_loss: 0.0044 - val_accuracy: 0.9999\n",
      "Epoch 15/30\n",
      "19218/19218 [==============================] - 8s 392us/step - loss: 0.0199 - accuracy: 0.9958 - val_loss: 0.0067 - val_accuracy: 0.9999\n",
      "Epoch 16/30\n",
      "19218/19218 [==============================] - 7s 385us/step - loss: 0.0197 - accuracy: 0.9950 - val_loss: 0.0053 - val_accuracy: 0.9990\n",
      "Epoch 17/30\n",
      "19218/19218 [==============================] - 7s 387us/step - loss: 0.0185 - accuracy: 0.9955 - val_loss: 0.0033 - val_accuracy: 0.9999\n",
      "Epoch 18/30\n",
      "19218/19218 [==============================] - 8s 394us/step - loss: 0.0150 - accuracy: 0.9963 - val_loss: 0.0037 - val_accuracy: 0.9999\n",
      "Epoch 19/30\n",
      "19218/19218 [==============================] - 7s 378us/step - loss: 0.0111 - accuracy: 0.9975 - val_loss: 0.0021 - val_accuracy: 0.9998\n",
      "Epoch 20/30\n",
      "19218/19218 [==============================] - 7s 387us/step - loss: 0.0131 - accuracy: 0.9967 - val_loss: 0.0032 - val_accuracy: 0.9995\n",
      "Epoch 21/30\n",
      "19218/19218 [==============================] - 7s 388us/step - loss: 0.0114 - accuracy: 0.9973 - val_loss: 0.0034 - val_accuracy: 0.9996\n",
      "Epoch 22/30\n",
      "19218/19218 [==============================] - 7s 386us/step - loss: 0.0093 - accuracy: 0.9976 - val_loss: 0.0054 - val_accuracy: 0.9992\n",
      "Epoch 23/30\n",
      "19218/19218 [==============================] - 7s 385us/step - loss: 0.0180 - accuracy: 0.9949 - val_loss: 0.0055 - val_accuracy: 0.9990\n",
      "Epoch 24/30\n",
      "19218/19218 [==============================] - 7s 380us/step - loss: 0.0146 - accuracy: 0.9955 - val_loss: 0.0011 - val_accuracy: 1.0000\n",
      "Epoch 25/30\n",
      "19218/19218 [==============================] - 7s 384us/step - loss: 0.0118 - accuracy: 0.9961 - val_loss: 0.0019 - val_accuracy: 1.0000\n",
      "Epoch 26/30\n",
      "19218/19218 [==============================] - 7s 382us/step - loss: 0.0095 - accuracy: 0.9976 - val_loss: 6.1738e-04 - val_accuracy: 1.0000\n",
      "Epoch 27/30\n",
      "19218/19218 [==============================] - 7s 386us/step - loss: 0.0087 - accuracy: 0.9978 - val_loss: 0.0012 - val_accuracy: 0.9998\n",
      "Epoch 28/30\n",
      "19218/19218 [==============================] - 7s 370us/step - loss: 0.0056 - accuracy: 0.9986 - val_loss: 7.2212e-04 - val_accuracy: 0.9999\n",
      "Epoch 29/30\n",
      "19218/19218 [==============================] - 7s 386us/step - loss: 0.0067 - accuracy: 0.9983 - val_loss: 5.1536e-04 - val_accuracy: 1.0000\n",
      "Epoch 30/30\n",
      "19218/19218 [==============================] - 8s 396us/step - loss: 0.0114 - accuracy: 0.9965 - val_loss: 0.0092 - val_accuracy: 0.9970\n"
     ]
    },
    {
     "data": {
      "text/plain": [
       "<keras.callbacks.callbacks.History at 0x7facaa12b550>"
      ]
     },
     "execution_count": 45,
     "metadata": {},
     "output_type": "execute_result"
    }
   ],
   "source": [
    "model2.fit(x_train, y_train, validation_data = (x_test, y_test), epochs=epochs, batch_size=batch_size)"
   ]
  },
  {
   "cell_type": "code",
   "execution_count": 34,
   "metadata": {
    "_uuid": "e486c080ea745082f91ca1d2cfc0aac975afdd3b"
   },
   "outputs": [],
   "source": [
    "test_labels = test['label']"
   ]
  },
  {
   "cell_type": "code",
   "execution_count": 35,
   "metadata": {
    "_uuid": "928db66ba635ba5cfc2726d8999221b40ccb65c6"
   },
   "outputs": [],
   "source": [
    "test.drop('label', axis = 1, inplace = True)"
   ]
  },
  {
   "cell_type": "code",
   "execution_count": 36,
   "metadata": {
    "_uuid": "7784e23a832e38afafcf619b779a43f10a1ff324"
   },
   "outputs": [],
   "source": [
    "test_images = test.values\n",
    "test_images = np.array([np.reshape(i, (28, 28)) for i in test_images])\n",
    "test_images = np.array([i.flatten() for i in test_images])"
   ]
  },
  {
   "cell_type": "code",
   "execution_count": 37,
   "metadata": {
    "_uuid": "d7b3c7af0b9d568322311fce747bf9e6dc38a7e3"
   },
   "outputs": [],
   "source": [
    "test_labels = label_binrizer.fit_transform(test_labels)"
   ]
  },
  {
   "cell_type": "code",
   "execution_count": 38,
   "metadata": {
    "_uuid": "f3ce64a4b948d953cfb30bfee2da40c91c097149"
   },
   "outputs": [],
   "source": [
    "test_images = test_images.reshape(test_images.shape[0], 28, 28, 1)"
   ]
  },
  {
   "cell_type": "code",
   "execution_count": 39,
   "metadata": {
    "_uuid": "f052e644cc78e783b928c28f2fdaf489d02db2a8"
   },
   "outputs": [
    {
     "data": {
      "text/plain": [
       "(7172, 28, 28, 1)"
      ]
     },
     "execution_count": 39,
     "metadata": {},
     "output_type": "execute_result"
    }
   ],
   "source": [
    "test_images.shape"
   ]
  },
  {
   "cell_type": "code",
   "execution_count": 40,
   "metadata": {
    "_uuid": "27670fc85328b772e9cf2446f091be92bf85c44b"
   },
   "outputs": [],
   "source": [
    "y_pred = model.predict(test_images)"
   ]
  },
  {
   "cell_type": "code",
   "execution_count": 46,
   "metadata": {},
   "outputs": [],
   "source": [
    "y_pred2 = model2.predict(test_images)"
   ]
  },
  {
   "cell_type": "code",
   "execution_count": 41,
   "metadata": {
    "_uuid": "338856c7e654588d95949cac42bdec5e9764577c"
   },
   "outputs": [],
   "source": [
    "from sklearn.metrics import accuracy_score"
   ]
  },
  {
   "cell_type": "code",
   "execution_count": 47,
   "metadata": {},
   "outputs": [
    {
     "data": {
      "text/plain": [
       "0.8392359174567764"
      ]
     },
     "execution_count": 47,
     "metadata": {},
     "output_type": "execute_result"
    }
   ],
   "source": [
    "accuracy_score(test_labels, y_pred2.round())"
   ]
  },
  {
   "cell_type": "code",
   "execution_count": 42,
   "metadata": {
    "_uuid": "eeb5aed5bf49f586df371798cb0bd25f437f60de"
   },
   "outputs": [
    {
     "data": {
      "text/plain": [
       "0.8563859453430006"
      ]
     },
     "execution_count": 42,
     "metadata": {},
     "output_type": "execute_result"
    }
   ],
   "source": [
    "accuracy_score(test_labels, y_pred.round())"
   ]
  },
  {
   "cell_type": "code",
   "execution_count": 48,
   "metadata": {},
   "outputs": [],
   "source": [
    "model.save('/Users/alphapro/Desktop/Kodlar, Programlar/ML/SignLang_ML/sign_model') "
   ]
  },
  {
   "cell_type": "code",
   "execution_count": null,
   "metadata": {},
   "outputs": [],
   "source": []
  }
 ],
 "metadata": {
  "kernelspec": {
   "display_name": "Python 3",
   "language": "python",
   "name": "python3"
  },
  "language_info": {
   "codemirror_mode": {
    "name": "ipython",
    "version": 3
   },
   "file_extension": ".py",
   "mimetype": "text/x-python",
   "name": "python",
   "nbconvert_exporter": "python",
   "pygments_lexer": "ipython3",
   "version": "3.7.6"
  }
 },
 "nbformat": 4,
 "nbformat_minor": 1
}
